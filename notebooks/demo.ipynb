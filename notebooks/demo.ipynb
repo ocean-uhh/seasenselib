{
 "cells": [
  {
   "cell_type": "markdown",
   "metadata": {},
   "source": [
    "# SeaSenseLib Demo Notebook\n",
    "\n",
    "This notebook demonstrates the key capabilities of SeaSenseLib for reading, processing, and visualizing oceanographic sensor data.\n",
    "\n",
    "## Overview\n",
    "\n",
    "SeaSenseLib is a Python library for reading, converting, and plotting oceanographic sensor data from various instrument formats. It provides:\n",
    "\n",
    "- **Readers** for multiple formats (CNV, NetCDF, RBR, ADCP, etc.)\n",
    "- **Writers** for data export (NetCDF, CSV, Excel)\n",
    "- **Plotters** for oceanographic visualizations\n",
    "- **Processors** for data analysis and manipulation\n",
    "\n",
    "## Setup\n",
    "\n",
    "First, let's import the necessary modules and set up our environment:"
   ]
  },
  {
   "cell_type": "code",
   "execution_count": null,
   "metadata": {},
   "outputs": [],
   "source": [
    "import numpy as np\n",
    "import matplotlib.pyplot as plt\n",
    "import warnings\n",
    "warnings.filterwarnings('ignore')  # Suppress warnings for cleaner output\n",
    "\n",
    "# Import SeaSenseLib components\n",
    "from seasenselib.readers import SbeCnvReader, NetCdfReader\n",
    "from seasenselib.writers import NetCdfWriter, CsvWriter\n",
    "from seasenselib.plotters import (\n",
    "    TsDiagramPlotter, \n",
    "    ProfilePlotter, \n",
    "    TimeSeriesPlotter,\n",
    "    TimeSeriesPlotterMulti\n",
    ")\n",
    "from seasenselib.processors import SubsetProcessor, StatisticsProcessor\n",
    "\n",
    "# Set up matplotlib for inline plotting\n",
    "plt.style.use('seaborn-v0_8')\n",
    "plt.rcParams['figure.figsize'] = (10, 6)\n",
    "\n",
    "print(\"✓ SeaSenseLib demo environment ready!\")"
   ]
  },
  {
   "cell_type": "markdown",
   "metadata": {},
   "source": [
    "## 1. Reading Data from Different Formats\n",
    "\n",
    "SeaSenseLib can read data from various oceanographic instruments. Let's start with the example data files."
   ]
  },
  {
   "cell_type": "markdown",
   "metadata": {},
   "source": [
    "### 1.1 Reading CTD Profile Data (CNV Format)\n",
    "\n",
    "First, let's read a vertical CTD profile from a SeaBird CNV file:"
   ]
  },
  {
   "cell_type": "code",
   "execution_count": null,
   "metadata": {},
   "outputs": [],
   "source": [
    "# Read CTD profile data\n",
    "profile_reader = SbeCnvReader(\"../examples/sea-practical-2023.cnv\")\n",
    "profile_data = profile_reader.get_data()\n",
    "\n",
    "print(\"CTD Profile Dataset:\")\n",
    "print(f\"Dimensions: {dict(profile_data.dims)}\")\n",
    "print(f\"Data variables: {list(profile_data.data_vars)}\")\n",
    "print(f\"Coordinates: {list(profile_data.coords)}\")\n",
    "print(f\"\\nData shape: {profile_data.sizes}\")"
   ]
  },
  {
   "cell_type": "markdown",
   "metadata": {},
   "source": [
    "### 1.2 Reading Time Series Data (Moored Instrument)\n",
    "\n",
    "Now let's read time series data from a moored instrument:"
   ]
  },
  {
   "cell_type": "code",
   "execution_count": null,
   "metadata": {},
   "outputs": [],
   "source": [
    "# Read time series data from moored instrument\n",
    "timeseries_reader = SbeCnvReader(\"../examples/denmark-strait-ds-m1-17.cnv\")\n",
    "timeseries_data = timeseries_reader.get_data()\n",
    "\n",
    "print(\"Time Series Dataset:\")\n",
    "print(f\"Dimensions: {dict(timeseries_data.dims)}\")\n",
    "print(f\"Data variables: {list(timeseries_data.data_vars)}\")\n",
    "print(f\"Time range: {timeseries_data.time.min().values} to {timeseries_data.time.max().values}\")\n",
    "print(f\"Duration: {len(timeseries_data.time)} measurements\")"
   ]
  },
  {
   "cell_type": "markdown",
   "metadata": {},
   "source": [
    "## 2. Data Exploration and Quality Assessment\n",
    "\n",
    "Let's explore the data structure and assess data quality:"
   ]
  },
  {
   "cell_type": "code",
   "execution_count": null,
   "metadata": {},
   "outputs": [],
   "source": [
    "# Display detailed information about the profile dataset\n",
    "print(\"=== CTD Profile Data Details ===\")\n",
    "print(profile_data)\n",
    "\n",
    "print(\"\\n=== Available Parameters and Units ===\")\n",
    "for var in profile_data.data_vars:\n",
    "    attrs = profile_data[var].attrs\n",
    "    units = attrs.get('units', 'no units')\n",
    "    long_name = attrs.get('long_name', var)\n",
    "    print(f\"{var}: {long_name} ({units})\")"
   ]
  },
  {
   "cell_type": "markdown",
   "metadata": {},
   "source": [
    "### 2.1 Basic Statistics"
   ]
  },
  {
   "cell_type": "code",
   "execution_count": null,
   "metadata": {},
   "outputs": [],
   "source": [
    "# Calculate basic statistics for profile data\n",
    "available_params = [var for var in profile_data.data_vars if var in ['temperature', 'salinity', 'pressure', 'oxygen']]\n",
    "\n",
    "print(\"=== CTD Profile Statistics ===\")\n",
    "for param in available_params:\n",
    "    try:\n",
    "        stats_processor = StatisticsProcessor(profile_data, param)\n",
    "        stats = stats_processor.get_all_statistics()\n",
    "        \n",
    "        print(f\"\\n{param.capitalize()}:\")\n",
    "        print(f\"  Mean: {stats['mean']:.3f}\")\n",
    "        print(f\"  Std:  {stats['std']:.3f}\")\n",
    "        print(f\"  Min:  {stats['min']:.3f}\")\n",
    "        print(f\"  Max:  {stats['max']:.3f}\")\n",
    "        print(f\"  Valid points: {stats['count_valid']}\")\n",
    "    except (ValueError, KeyError) as e:\n",
    "        print(f\"\\n{param.capitalize()}: Not available in dataset\")"
   ]
  },
  {
   "cell_type": "markdown",
   "metadata": {},
   "source": [
    "## 3. Data Conversion and Export\n",
    "\n",
    "SeaSenseLib can export data to various formats while preserving metadata and following CF conventions:"
   ]
  },
  {
   "cell_type": "code",
   "execution_count": null,
   "metadata": {},
   "outputs": [],
   "source": [
    "# Convert CNV to NetCDF with CF conventions\n",
    "# First, clean up complex attributes that can't be serialized to NetCDF\n",
    "import copy\n",
    "clean_profile_data = copy.deepcopy(profile_data)\n",
    "\n",
    "# Remove or convert complex attributes\n",
    "for attr_name in list(clean_profile_data.attrs.keys()):\n",
    "    attr_value = clean_profile_data.attrs[attr_name]\n",
    "    if isinstance(attr_value, dict):\n",
    "        # Convert dict to string representation\n",
    "        clean_profile_data.attrs[attr_name] = str(attr_value)\n",
    "    elif not isinstance(attr_value, (str, int, float, list, tuple, bytes)):\n",
    "        # Remove any other complex types\n",
    "        del clean_profile_data.attrs[attr_name]\n",
    "\n",
    "# Also clean variable attributes\n",
    "for var_name in clean_profile_data.data_vars:\n",
    "    for attr_name in list(clean_profile_data[var_name].attrs.keys()):\n",
    "        attr_value = clean_profile_data[var_name].attrs[attr_name]\n",
    "        if isinstance(attr_value, dict):\n",
    "            clean_profile_data[var_name].attrs[attr_name] = str(attr_value)\n",
    "        elif not isinstance(attr_value, (str, int, float, list, tuple, bytes)):\n",
    "            del clean_profile_data[var_name].attrs[attr_name]\n",
    "\n",
    "netcdf_writer = NetCdfWriter(clean_profile_data)\n",
    "netcdf_writer.write('demo_output_profile.nc')\n",
    "print(\"✓ Exported to NetCDF: demo_output_profile.nc\")\n",
    "\n",
    "# Export to CSV (original data is fine for CSV)\n",
    "csv_writer = CsvWriter(profile_data)\n",
    "csv_writer.write('demo_output_profile.csv')\n",
    "print(\"✓ Exported to CSV: demo_output_profile.csv\")"
   ]
  },
  {
   "cell_type": "markdown",
   "metadata": {},
   "source": [
    "### 3.1 Verify NetCDF Export\n",
    "\n",
    "Let's read back the NetCDF file to verify the export worked correctly:"
   ]
  },
  {
   "cell_type": "code",
   "execution_count": null,
   "metadata": {},
   "outputs": [],
   "source": [
    "# Read back the exported NetCDF file\n",
    "netcdf_reader = NetCdfReader('demo_output_profile.nc')\n",
    "netcdf_data = netcdf_reader.get_data()\n",
    "\n",
    "print(\"Exported NetCDF file structure:\")\n",
    "print(f\"Dimensions: {dict(netcdf_data.dims)}\")\n",
    "print(f\"Variables: {list(netcdf_data.data_vars)}\")\n",
    "print(f\"Data preserved: {len(netcdf_data.data_vars)} variables exported successfully\")\n",
    "print(\"\\n✓ NetCDF export/import successful!\")"
   ]
  },
  {
   "cell_type": "markdown",
   "metadata": {},
   "source": [
    "## 4. Data Visualization\n",
    "\n",
    "SeaSenseLib provides specialized plotting tools for oceanographic data visualization:"
   ]
  },
  {
   "cell_type": "markdown",
   "metadata": {},
   "source": [
    "### 4.1 Temperature-Salinity (T-S) Diagram\n",
    "\n",
    "T-S diagrams show the relationship between temperature and salinity with density isolines:"
   ]
  },
  {
   "cell_type": "code",
   "execution_count": null,
   "metadata": {},
   "outputs": [],
   "source": [
    "# Create T-S diagram\n",
    "if 'temperature' in profile_data.data_vars and 'salinity' in profile_data.data_vars:\n",
    "    ts_plotter = TsDiagramPlotter(profile_data)\n",
    "    plt.figure(figsize=(10, 8))\n",
    "    ts_plotter.plot(title=\"CTD Profile T-S Diagram\")\n",
    "    plt.tight_layout()\n",
    "    plt.show()\n",
    "    print(\"✓ T-S diagram created\")\n",
    "else:\n",
    "    print(\"Temperature and/or salinity not available for T-S diagram\")"
   ]
  },
  {
   "cell_type": "markdown",
   "metadata": {},
   "source": [
    "### 4.2 Vertical Profile Plot\n",
    "\n",
    "Display the CTD cast as a vertical profile showing how parameters change with depth:"
   ]
  },
  {
   "cell_type": "code",
   "execution_count": null,
   "metadata": {},
   "outputs": [],
   "source": [
    "# Create vertical profile plot\n",
    "profile_plotter = ProfilePlotter(profile_data)\n",
    "plt.figure(figsize=(12, 8))\n",
    "profile_plotter.plot(title=\"CTD Vertical Profile\")\n",
    "plt.tight_layout()\n",
    "plt.show()\n",
    "print(\"✓ Vertical profile plot created\")"
   ]
  },
  {
   "cell_type": "markdown",
   "metadata": {},
   "source": [
    "### 4.3 Time Series Plots\n",
    "\n",
    "For the moored instrument data, let's create time series plots:"
   ]
  },
  {
   "cell_type": "code",
   "execution_count": null,
   "metadata": {},
   "outputs": [],
   "source": [
    "# Single parameter time series\n",
    "if 'temperature' in timeseries_data.data_vars:\n",
    "    ts_plotter = TimeSeriesPlotter(timeseries_data)\n",
    "    plt.figure(figsize=(12, 6))\n",
    "    ts_plotter.plot(parameter_name='temperature', title=\"Temperature Time Series\")\n",
    "    plt.tight_layout()\n",
    "    plt.show()\n",
    "    print(\"✓ Temperature time series created\")\n",
    "else:\n",
    "    print(\"Temperature data not available for time series\")"
   ]
  },
  {
   "cell_type": "code",
   "execution_count": null,
   "metadata": {},
   "outputs": [],
   "source": [
    "# Multi-parameter time series with dual axis\n",
    "available_ts_params = [p for p in ['temperature', 'salinity', 'pressure'] if p in timeseries_data.data_vars]\n",
    "\n",
    "if len(available_ts_params) >= 2:\n",
    "    multi_plotter = TimeSeriesPlotterMulti(timeseries_data)\n",
    "    plt.figure(figsize=(12, 6))\n",
    "    multi_plotter.plot(available_ts_params[:2], dual_axis=True, title=\"Multi-Parameter Time Series\")\n",
    "    plt.tight_layout()\n",
    "    plt.show()\n",
    "    print(f\"✓ Multi-parameter time series created for: {available_ts_params[:2]}\")\n",
    "else:\n",
    "    print(f\"Insufficient parameters for multi-plot. Available: {available_ts_params}\")"
   ]
  },
  {
   "cell_type": "markdown",
   "metadata": {},
   "source": [
    "## 5. Data Processing and Analysis\n",
    "\n",
    "SeaSenseLib provides tools for data processing and analysis:"
   ]
  },
  {
   "cell_type": "markdown",
   "metadata": {},
   "source": [
    "### 5.1 Data Subsetting\n",
    "\n",
    "Extract specific depth ranges or time periods:"
   ]
  },
  {
   "cell_type": "code",
   "execution_count": null,
   "metadata": {},
   "outputs": [],
   "source": [
    "# Subset profile data by depth (if pressure/depth data available)\n",
    "subset_processor = SubsetProcessor(profile_data)\n",
    "\n",
    "if 'pressure' in profile_data.data_vars:\n",
    "    # Subset to upper 50 dbar (approximately 50 meters)\n",
    "    shallow_data = subset_processor.set_parameter_name('pressure').set_parameter_value_min(0).set_parameter_value_max(50).get_subset()\n",
    "    print(f\"Original data points: {len(profile_data.pressure)}\")\n",
    "    print(f\"Shallow subset (0-50 dbar): {len(shallow_data.pressure)}\")\n",
    "    print(f\"Pressure range in subset: {shallow_data.pressure.min().values:.1f} - {shallow_data.pressure.max().values:.1f} dbar\")\n",
    "else:\n",
    "    print(\"Pressure data not available for depth subsetting\")"
   ]
  },
  {
   "cell_type": "code",
   "execution_count": null,
   "metadata": {},
   "outputs": [],
   "source": [
    "import pandas as pd\n",
    "# Subset time series data by time period\n",
    "if 'time' in timeseries_data.coords and len(timeseries_data.time) > 100:\n",
    "    ts_subset_processor = SubsetProcessor(timeseries_data)\n",
    "    # Get the first half of the time series\n",
    "    start_time = timeseries_data.time.min()\n",
    "    mid_time = timeseries_data.time[len(timeseries_data.time)//2]\n",
    "    \n",
    "    first_half = ts_subset_processor.set_time_min(pd.Timestamp(start_time.values)).set_time_max(pd.Timestamp(mid_time.values)).get_subset()\n",
    "\n",
    "    print(f\"Original time series length: {len(timeseries_data.time)}\")\n",
    "    print(f\"First half subset length: {len(first_half.time)}\")\n",
    "    print(f\"Time range in subset: {first_half.time.min().values} to {first_half.time.max().values}\")\n",
    "else:\n",
    "    print(\"Time data not suitable for subsetting\")"
   ]
  },
  {
   "cell_type": "markdown",
   "metadata": {},
   "source": [
    "### 5.2 Statistical Analysis\n",
    "\n",
    "Calculate comprehensive statistics for the datasets:"
   ]
  },
  {
   "cell_type": "code",
   "execution_count": null,
   "metadata": {},
   "outputs": [],
   "source": [
    "# Compare statistics between full profile and shallow subset\n",
    "if 'pressure' in profile_data.data_vars and 'temperature' in profile_data.data_vars:\n",
    "    full_temp_processor = StatisticsProcessor(profile_data, 'temperature')\n",
    "    full_stats = full_temp_processor.get_all_statistics()\n",
    "    \n",
    "    shallow_temp_processor = StatisticsProcessor(shallow_data, 'temperature')\n",
    "    shallow_stats = shallow_temp_processor.get_all_statistics()\n",
    "    \n",
    "    print(\"=== Temperature Statistics Comparison ===\")\n",
    "    print(f\"Full profile - Mean: {full_stats['mean']:.3f}°C, Range: {full_stats['min']:.3f} - {full_stats['max']:.3f}°C\")\n",
    "    print(f\"Shallow (0-50m) - Mean: {shallow_stats['mean']:.3f}°C, Range: {shallow_stats['min']:.3f} - {shallow_stats['max']:.3f}°C\")\n",
    "    \n",
    "    temp_diff = shallow_stats['mean'] - full_stats['mean']\n",
    "    print(f\"\\nTemperature difference (shallow - full): {temp_diff:.3f}°C\")\n",
    "    if temp_diff > 0:\n",
    "        print(\"→ Shallow waters are warmer (typical thermocline pattern)\")\n",
    "    else:\n",
    "        print(\"→ Shallow waters are cooler\")"
   ]
  },
  {
   "cell_type": "markdown",
   "metadata": {},
   "source": [
    "## 6. Summary and Conclusions\n",
    "\n",
    "This demo has showcased the key capabilities of SeaSenseLib:"
   ]
  },
  {
   "cell_type": "code",
   "execution_count": null,
   "metadata": {},
   "outputs": [],
   "source": [
    "print(\"=== SeaSenseLib Demo Summary ===\")\n",
    "print(\"\\n✓ Successfully demonstrated:\")\n",
    "print(\"  • Reading CNV files (both profile and time series data)\")\n",
    "print(\"  • Data exploration and quality assessment\")\n",
    "print(\"  • Format conversion (CNV → NetCDF, CSV)\")\n",
    "print(\"  • Specialized oceanographic visualizations:\")\n",
    "print(\"    - T-S diagrams with density isolines\")\n",
    "print(\"    - Vertical profiles\")\n",
    "print(\"    - Time series plots (single and multi-parameter)\")\n",
    "print(\"  • Data processing and analysis:\")\n",
    "print(\"    - Depth and time subsetting\")\n",
    "print(\"    - Statistical analysis\")\n",
    "\n",
    "print(\"\\n📊 Datasets processed:\")\n",
    "print(f\"  • CTD Profile: {len(profile_data.pressure) if 'pressure' in profile_data else 'N/A'} data points\")\n",
    "print(f\"  • Time Series: {len(timeseries_data.time) if 'time' in timeseries_data else 'N/A'} measurements\")\n",
    "\n",
    "print(\"\\n📁 Files created:\")\n",
    "print(\"  • demo_output_profile.nc (NetCDF)\")\n",
    "print(\"  • demo_output_profile.csv (CSV)\")\n",
    "\n",
    "print(\"\\n🌊 SeaSenseLib provides a comprehensive solution for oceanographic data processing!\")"
   ]
  },
  {
   "cell_type": "markdown",
   "metadata": {},
   "source": [
    "## Next Steps\n",
    "\n",
    "To learn more about SeaSenseLib:\n",
    "\n",
    "1. **Documentation**: Check the full documentation for detailed API reference\n",
    "2. **CLI Usage**: Try the command-line interface with `seasenselib --help`\n",
    "3. **More Formats**: Explore support for RBR, ADCP, and other instrument formats\n",
    "4. **Custom Processing**: Implement custom readers and processors for your specific needs\n",
    "5. **Integration**: Integrate SeaSenseLib into your oceanographic data processing workflows\n",
    "\n",
    "### Example CLI Commands\n",
    "\n",
    "```bash\n",
    "# List supported formats\n",
    "seasenselib formats\n",
    "\n",
    "# Convert CNV to NetCDF\n",
    "seasenselib convert -i examples/sea-practical-2023.cnv -o output.nc\n",
    "\n",
    "# Create plots\n",
    "seasenselib plot-ts -i output.nc -o ts_diagram.png\n",
    "seasenselib plot-profile -i output.nc -o profile.png\n",
    "seasenselib plot-series -i examples/denmark-strait-ds-m1-17.cnv -p temperature\n",
    "```\n",
    "\n",
    "Happy oceanographic data processing! 🌊"
   ]
  }
 ],
 "metadata": {
  "kernelspec": {
   "display_name": "venv (3.11.7)",
   "language": "python",
   "name": "python3"
  },
  "language_info": {
   "codemirror_mode": {
    "name": "ipython",
    "version": 3
   },
   "file_extension": ".py",
   "mimetype": "text/x-python",
   "name": "python",
   "nbconvert_exporter": "python",
   "pygments_lexer": "ipython3",
   "version": "3.11.7"
  }
 },
 "nbformat": 4,
 "nbformat_minor": 4
}
